{
 "cells": [
  {
   "cell_type": "markdown",
   "id": "fef835f5",
   "metadata": {},
   "source": [
    "# Analytics for Wandering Ghost\n",
    "\n",
    "This is the analytics data visualization note for WebGL game **Wandering Ghost** made for CSCI526(2024Spring).\n",
    "\n",
    "Methodology used for Analytics:\n",
    "- Data Collection:\n",
    "    - Create empty game element in the scenes and write script to specify what data is collected\n",
    "    - Link to Firebase\n",
    "- Data Visualization:\n",
    "    - Downloaded json data from Firebase\n",
    "    - Use this note to generate statistical charts of collected data.\n",
    "    \n",
    "Metric overview:\n",
    "- [Metric1](#Metric1:-Average-staying-time-in-each-room-in-each-level)\n",
    "- [Metric2(TBD)](#Metric2)\n",
    "- [Metric3(TBD)](#Metric3)\n",
    "- [Metric4(TBD)](#Metric4)"
   ]
  },
  {
   "cell_type": "markdown",
   "id": "837f34dc",
   "metadata": {},
   "source": [
    "## Set up"
   ]
  },
  {
   "cell_type": "code",
   "execution_count": 1,
   "id": "4eb54472",
   "metadata": {},
   "outputs": [],
   "source": [
    "import json\n",
    "import matplotlib.pyplot as plt\n",
    "import numpy as np\n",
    "\n",
    "data_path = 'wandering-ghost-default-rtdb-export.json'\n",
    "\n",
    "with open(data_path, 'r') as file:\n",
    "    data = json.load(file)"
   ]
  },
  {
   "cell_type": "code",
   "execution_count": 2,
   "id": "07865ef8",
   "metadata": {},
   "outputs": [],
   "source": [
    "finished_data = data['Finish']\n",
    "unfinished_data = data['UnFinish']"
   ]
  },
  {
   "cell_type": "markdown",
   "id": "83fe1fd2",
   "metadata": {},
   "source": [
    "## Metric1: Average staying time in each room in each level\n",
    "**Description:**\n",
    "This metric measures the average time that players spend on staying in each room of each level. The room here is identified as any such space that players can navigate and interact with game objects that is not directly linked to or containing the goal.\n",
    "\n",
    "**Justification:**\n",
    "When we design the game map, we set different rooms with different abilities for the player to move forward to find the goal. By analyzing the average time that players spend on each room, we will have an idea how players explore the map, this will highlight which rooms may be too complex or missing instruction, allowing us for targeted adjustments in puzzle design and difficulty balancing.\n",
    "\n",
    "\n",
    "**Interpretation:**\n",
    "Longer durations may suggest a puzzle's difficulty is too high leading to player stalling, or the player cannot find key elements to pass the room. While shorter durations could indicate a lack of challenge or engagement. Adjustments might include altering obstacle complexity, providing more or fewer hints for interaction.\n"
   ]
  },
  {
   "cell_type": "code",
   "execution_count": 3,
   "id": "fff24136",
   "metadata": {},
   "outputs": [],
   "source": [
    "def process_data(data):\n",
    "    levels = {}\n",
    "    for each_data in finished_data:\n",
    "        level_info = finished_data[each_data]\n",
    "        level_id = level_info['levelID']\n",
    "        level_name = level_info['levelName']\n",
    "        total_time_spent = level_info['totalTimeSpent']\n",
    "        print(level_id)\n",
    "\n",
    "        if level_id not in levels:\n",
    "            levels[level_id] = {'totalTimeSpent': [], 'rooms': {}}\n",
    "\n",
    "        levels[level_id]['totalTimeSpent'].append(total_time_spent)\n",
    "\n",
    "        print(levels[level_id])\n",
    "\n",
    "        if 'rooms' in level_info:\n",
    "            for room in level_info['rooms']:\n",
    "                room_name = room['roomName']\n",
    "                room_id = room['roomID']\n",
    "                time_spent = room['timeSpent']\n",
    "                if room_id not in levels[level_id]['rooms']:\n",
    "                    levels[level_id]['rooms'][room_id] = []\n",
    "                levels[level_id]['rooms'][room_id].append(time_spent)\n",
    "    return levels"
   ]
  },
  {
   "cell_type": "code",
   "execution_count": 9,
   "id": "24836612",
   "metadata": {},
   "outputs": [
    {
     "name": "stdout",
     "output_type": "stream",
     "text": [
      "Level1\n",
      "{'totalTimeSpent': [34.90228271484375], 'rooms': {}}\n",
      "Level0\n",
      "{'totalTimeSpent': [23.031295776367188], 'rooms': {}}\n",
      "Level1\n",
      "{'totalTimeSpent': [34.90228271484375, 38.759193420410156], 'rooms': {'Room1': [10.169261932373047], 'Room2': [3.7192885875701904], 'Room3': [12.781781196594238]}}\n",
      "Level2\n",
      "{'totalTimeSpent': [53.76894760131836], 'rooms': {}}\n",
      "Level0\n",
      "{'totalTimeSpent': [23.031295776367188, 13.446446418762207], 'rooms': {}}\n",
      "Level0\n",
      "{'totalTimeSpent': [23.031295776367188, 13.446446418762207, 16.327857971191406], 'rooms': {}}\n",
      "Level1\n",
      "{'totalTimeSpent': [34.90228271484375, 38.759193420410156, 34.46465301513672], 'rooms': {'Room1': [10.169261932373047, 13.047257423400879], 'Room2': [3.7192885875701904, 5.958754539489746], 'Room3': [12.781781196594238, 8.02037239074707]}}\n",
      "Level0\n",
      "{'totalTimeSpent': [23.031295776367188, 13.446446418762207, 16.327857971191406, 21.8325138092041], 'rooms': {}}\n",
      "Level0\n",
      "{'totalTimeSpent': [23.031295776367188, 13.446446418762207, 16.327857971191406, 21.8325138092041, 22.10773468017578], 'rooms': {}}\n",
      "Level0\n",
      "{'totalTimeSpent': [23.031295776367188, 13.446446418762207, 16.327857971191406, 21.8325138092041, 22.10773468017578, 34.927635192871094], 'rooms': {}}\n",
      "Level0\n",
      "{'totalTimeSpent': [23.031295776367188, 13.446446418762207, 16.327857971191406, 21.8325138092041, 22.10773468017578, 34.927635192871094, 27.404586791992188], 'rooms': {}}\n",
      "Level1\n",
      "{'totalTimeSpent': [34.90228271484375, 38.759193420410156, 34.46465301513672, 47.9542350769043], 'rooms': {'Room1': [10.169261932373047, 13.047257423400879, 13.873517990112305], 'Room2': [3.7192885875701904, 5.958754539489746, 5.219878673553467], 'Room3': [12.781781196594238, 8.02037239074707, 7.536604404449463]}}\n",
      "Level0\n",
      "{'totalTimeSpent': [23.031295776367188, 13.446446418762207, 16.327857971191406, 21.8325138092041, 22.10773468017578, 34.927635192871094, 27.404586791992188, 24.360448837280273], 'rooms': {}}\n",
      "Level0\n",
      "{'totalTimeSpent': [23.031295776367188, 13.446446418762207, 16.327857971191406, 21.8325138092041, 22.10773468017578, 34.927635192871094, 27.404586791992188, 24.360448837280273, 22.119394302368164], 'rooms': {}}\n",
      "Level1\n",
      "{'totalTimeSpent': [34.90228271484375, 38.759193420410156, 34.46465301513672, 47.9542350769043, 44.23634719848633], 'rooms': {'Room1': [10.169261932373047, 13.047257423400879, 13.873517990112305, 29.987159729003906], 'Room2': [3.7192885875701904, 5.958754539489746, 5.219878673553467, 13.299686431884766], 'Room3': [12.781781196594238, 8.02037239074707, 7.536604404449463, 22.460847854614258]}}\n",
      "Level2\n",
      "{'totalTimeSpent': [53.76894760131836, 82.81555938720703], 'rooms': {'Room1': [4.348344326019287], 'Room2': [11.759748458862305], 'Room3': [7.959157943725586], 'Room4': [2.0407028198242188]}}\n",
      "Level0\n",
      "{'totalTimeSpent': [23.031295776367188, 13.446446418762207, 16.327857971191406, 21.8325138092041, 22.10773468017578, 34.927635192871094, 27.404586791992188, 24.360448837280273, 22.119394302368164, 26.262704849243164], 'rooms': {}}\n",
      "Level0\n",
      "{'totalTimeSpent': [23.031295776367188, 13.446446418762207, 16.327857971191406, 21.8325138092041, 22.10773468017578, 34.927635192871094, 27.404586791992188, 24.360448837280273, 22.119394302368164, 26.262704849243164, 24.134374618530273], 'rooms': {}}\n",
      "Level0\n",
      "{'totalTimeSpent': [23.031295776367188, 13.446446418762207, 16.327857971191406, 21.8325138092041, 22.10773468017578, 34.927635192871094, 27.404586791992188, 24.360448837280273, 22.119394302368164, 26.262704849243164, 24.134374618530273, 22.584516525268555], 'rooms': {}}\n",
      "Level1\n",
      "{'totalTimeSpent': [34.90228271484375, 38.759193420410156, 34.46465301513672, 47.9542350769043, 44.23634719848633, 45.479095458984375], 'rooms': {'Room1': [10.169261932373047, 13.047257423400879, 13.873517990112305, 29.987159729003906, 35.42932891845703], 'Room2': [3.7192885875701904, 5.958754539489746, 5.219878673553467, 13.299686431884766, 9.601846694946289], 'Room3': [12.781781196594238, 8.02037239074707, 7.536604404449463, 22.460847854614258, 21.759883880615234]}}\n",
      "Level2\n",
      "{'totalTimeSpent': [53.76894760131836, 82.81555938720703, 87.39575958251953], 'rooms': {'Room1': [4.348344326019287, 4.874788761138916], 'Room2': [11.759748458862305, 31.90398406982422], 'Room3': [7.959157943725586, 13.121733665466309], 'Room4': [2.0407028198242188, 6.501547813415527]}}\n"
     ]
    },
    {
     "data": {
      "text/plain": [
       "{'Level1': {'totalTimeSpent': [34.90228271484375,\n",
       "   38.759193420410156,\n",
       "   34.46465301513672,\n",
       "   47.9542350769043,\n",
       "   44.23634719848633,\n",
       "   45.479095458984375],\n",
       "  'rooms': {'Room1': [10.169261932373047,\n",
       "    13.047257423400879,\n",
       "    13.873517990112305,\n",
       "    29.987159729003906,\n",
       "    35.42932891845703,\n",
       "    30.06833267211914],\n",
       "   'Room2': [3.7192885875701904,\n",
       "    5.958754539489746,\n",
       "    5.219878673553467,\n",
       "    13.299686431884766,\n",
       "    9.601846694946289,\n",
       "    9.840795516967773],\n",
       "   'Room3': [12.781781196594238,\n",
       "    8.02037239074707,\n",
       "    7.536604404449463,\n",
       "    22.460847854614258,\n",
       "    21.759883880615234,\n",
       "    20.457904815673828]}},\n",
       " 'Level0': {'totalTimeSpent': [23.031295776367188,\n",
       "   13.446446418762207,\n",
       "   16.327857971191406,\n",
       "   21.8325138092041,\n",
       "   22.10773468017578,\n",
       "   34.927635192871094,\n",
       "   27.404586791992188,\n",
       "   24.360448837280273,\n",
       "   22.119394302368164,\n",
       "   26.262704849243164,\n",
       "   24.134374618530273,\n",
       "   22.584516525268555],\n",
       "  'rooms': {}},\n",
       " 'Level2': {'totalTimeSpent': [53.76894760131836,\n",
       "   82.81555938720703,\n",
       "   87.39575958251953],\n",
       "  'rooms': {'Room1': [4.348344326019287, 4.874788761138916, 4.395566940307617],\n",
       "   'Room2': [11.759748458862305, 31.90398406982422, 24.777721405029297],\n",
       "   'Room3': [7.959157943725586, 13.121733665466309, 11.05859661102295],\n",
       "   'Room4': [2.0407028198242188, 6.501547813415527, 12.264840126037598]}}}"
      ]
     },
     "execution_count": 9,
     "metadata": {},
     "output_type": "execute_result"
    }
   ],
   "source": [
    "levels = process_data(finished_data)"
   ]
  },
  {
   "cell_type": "code",
   "execution_count": 5,
   "id": "2d3099c6",
   "metadata": {},
   "outputs": [],
   "source": [
    "def calc_averages(levels):\n",
    "    averages = {}\n",
    "    for level_id, level_info in levels.items():\n",
    "        total_avg = sum(level_info['totalTimeSpent']) / len(level_info['totalTimeSpent'])\n",
    "        averages[level_id] = {'total': total_avg, 'rooms': {}}\n",
    "        for room_id, times in level_info['rooms'].items():\n",
    "            room_avg = sum(times) / len(times)\n",
    "            averages[level_id]['rooms'][room_id] = room_avg\n",
    "    return averages"
   ]
  },
  {
   "cell_type": "code",
   "execution_count": 6,
   "id": "77310408",
   "metadata": {},
   "outputs": [],
   "source": [
    "averages = calc_averages(levels)\n",
    "# averages"
   ]
  },
  {
   "cell_type": "code",
   "execution_count": 7,
   "id": "82770bd4",
   "metadata": {},
   "outputs": [],
   "source": [
    "def plot_data(averages, save_path):\n",
    "    # sort levels based on the number part of the level key\n",
    "    sorted_levels = sorted(averages.keys(), key=lambda x: int(x.replace('Level', '')))\n",
    "    \n",
    "    labels = []  # level labels\n",
    "    room_times = {}  # dict for each room's times including total\n",
    "\n",
    "    \n",
    "    # find all room names and sort by id, then add 'Total'\n",
    "    all_room_names = set()\n",
    "    for level_data in averages.values():\n",
    "        all_room_names.update(level_data['rooms'].keys())\n",
    "    sorted_room_names = ['Total'] + sorted(all_room_names, key=lambda x: int(x.replace('Room', '')))\n",
    "\n",
    "    # init room_times with an entry for total and for each room\n",
    "    for room_name in sorted_room_names:\n",
    "        room_times[room_name] = []\n",
    "  \n",
    "    \n",
    "    # extract data for each level and room\n",
    "    for level_id in sorted_levels:\n",
    "        labels.append(level_id.replace('Level', 'Level '))\n",
    "        room_times['Total'].append(averages[level_id]['total'])  # Total time\n",
    "        level_rooms = averages[level_id]['rooms']\n",
    "        \n",
    "        for room_name in sorted_room_names[1:]:  # Skip 'Total' since it's already added\n",
    "            room_times[room_name].append(level_rooms.get(room_name, 0) if room_name in level_rooms else None)\n",
    "\n",
    "    \n",
    "    # calc number of levels and number of rooms\n",
    "    n_groups = len(labels)\n",
    "    n_rooms = len(sorted_room_names)\n",
    "    \n",
    "    # calc width based on number of rooms\n",
    "    bar_width = 0.8 / n_rooms\n",
    "    opacity = 0.8\n",
    "    index = np.arange(n_groups)\n",
    "\n",
    "    fig, ax = plt.subplots()\n",
    "\n",
    "    \n",
    "    # draw bars for total and each room\n",
    "    for i, room_name in enumerate(sorted_room_names):\n",
    "        times = room_times[room_name]\n",
    "        if room_name == 'Total':\n",
    "            # draw total first with special style\n",
    "            rects = ax.bar(index + i * bar_width, times, bar_width, alpha=opacity, label=room_name, color='black', hatch='/')\n",
    "        else:\n",
    "            # only draw non-zero bars\n",
    "            times = [0 if time is None else time for time in times]\n",
    "            rects = ax.bar(index + i * bar_width, times, bar_width, alpha=opacity, label=room_name)\n",
    "        \n",
    "        # add text labels above the bars\n",
    "        for rect in rects:\n",
    "            height = rect.get_height()\n",
    "            if height > 0:    # Only add label if the height is greater than 0\n",
    "                ax.annotate(f'{height:.2f}',\n",
    "                            xy=(rect.get_x() + rect.get_width() / 2, height),\n",
    "                            xytext=(0, 3),  # 3 points vertical offset\n",
    "                            textcoords=\"offset points\",\n",
    "                            ha='center', va='bottom')\n",
    "    \n",
    "    ax.set_xlabel('Level')\n",
    "    ax.set_ylabel('Average time used /s')\n",
    "    ax.set_title('Matric1: Average Time Spent by Level and Room')\n",
    "    ax.set_xticks(index + bar_width * (n_rooms - 1) / 2)\n",
    "    ax.set_xticklabels(labels)\n",
    "    ax.legend()\n",
    "\n",
    "    fig.tight_layout()\n",
    "    plt.savefig(save_path)\n",
    "    plt.show()"
   ]
  },
  {
   "cell_type": "code",
   "execution_count": 8,
   "id": "6f8e43e6",
   "metadata": {},
   "outputs": [
    {
     "data": {
      "image/png": "[encoded data removed]",
      "text/plain": [
       "<Figure size 432x288 with 1 Axes>"
      ]
     },
     "metadata": {
      "needs_background": "light"
     },
     "output_type": "display_data"
    }
   ],
   "source": [
    "plot_data(averages, 'average_time_spent_plot.png')"
   ]
  },
  {
   "cell_type": "markdown",
   "id": "2f9146ce",
   "metadata": {},
   "source": [
    "## Metric2\n",
    "TBD"
   ]
  },
  {
   "cell_type": "markdown",
   "id": "0f4432c5",
   "metadata": {},
   "source": [
    "## Metric3\n",
    "TBD"
   ]
  },
  {
   "cell_type": "markdown",
   "id": "0362edcd",
   "metadata": {},
   "source": [
    "## Metric4\n",
    "TBD"
   ]
  }
 ],
 "metadata": {
  "kernelspec": {
   "display_name": "Python 3 (ipykernel)",
   "language": "python",
   "name": "python3"
  },
  "language_info": {
   "codemirror_mode": {
    "name": "ipython",
    "version": 3
   },
   "file_extension": ".py",
   "mimetype": "text/x-python",
   "name": "python",
   "nbconvert_exporter": "python",
   "pygments_lexer": "ipython3",
   "version": "3.9.7"
  }
 },
 "nbformat": 4,
 "nbformat_minor": 5
}
