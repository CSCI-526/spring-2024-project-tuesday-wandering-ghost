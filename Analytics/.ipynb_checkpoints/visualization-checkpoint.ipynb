{
 "cells": [
  {
   "cell_type": "markdown",
   "id": "1f3b2bed",
   "metadata": {},
   "source": [
    "# Analytics for Wandering Ghost\n",
    "\n",
    "This is the analytics data visualization note for WebGL game **Wandering Ghost** made for CSCI526(2024Spring).\n",
    "\n",
    "Methodology used for Analytics:\n",
    "- Data Collection:\n",
    "    - Create empty game element in the scenes and write script to specify what data is collected\n",
    "    - Link to Firebase\n",
    "- Data Visualization:\n",
    "    - Downloaded json data from Firebase\n",
    "    - Use this note to generate statistical charts of collected data.\n",
    "    \n",
    "Metric overview:\n",
    "- [Metric1](#Metric1:-Average-staying-time-in-each-room-in-each-level)\n",
    "- [Metric2(TBD)](#Metric2)\n",
    "- [Metric3(TBD)](#Metric3)\n",
    "- [Metric4(TBD)](#Metric4)"
   ]
  },
  {
   "cell_type": "markdown",
   "id": "837f34dc",
   "metadata": {},
   "source": [
    "## Set up"
   ]
  },
  {
   "cell_type": "code",
   "execution_count": 1,
   "id": "4eb54472",
   "metadata": {},
   "outputs": [],
   "source": [
    "import json\n",
    "import matplotlib.pyplot as plt\n",
    "import numpy as np\n",
    "\n",
    "data_path = 'wandering-ghost-default-rtdb-export.json'\n",
    "\n",
    "with open(data_path, 'r') as file:\n",
    "    data = json.load(file)"
   ]
  },
  {
   "cell_type": "code",
   "execution_count": 2,
   "id": "07865ef8",
   "metadata": {},
   "outputs": [],
   "source": [
    "finished_data = data['Finish']\n",
    "unfinished_data = data['UnFinish']"
   ]
  },
  {
   "cell_type": "markdown",
   "id": "83fe1fd2",
   "metadata": {},
   "source": [
    "## Metric1: Distribution of Time Spent in Each Room Across Levels\n",
    "**Description:**\n",
    "This metric evaluates the distribution of time players spend in each room across different levels, using a box plot for visual representation. The room here is identified as any such space that players can navigate and interact with game objects that is not directly linked to or containing the goal.\n",
    "\n",
    "\n",
    "**Justification:**\n",
    "In designing the game's map, rooms are crafted with distinct challenges and mechanics, guiding players toward the ultimate goal. By examining the distribution of time spent in each room, insights into player exploration patterns are revealed. This analysis identifies rooms that may be overly complex or lacking clear instruction, enabling targeted improvements in puzzle design and difficulty balancing. The choice of a box plot presentation minimizes bias by showcasing the variability and central tendency of time spent, rather than just averages.\n",
    "\n",
    "\n",
    "**Interpretation:**\n",
    "A wide spread in the distribution may indicate varied player experiences, suggesting that a puzzle's difficulty might be inconsistent or that players are having difficulty finding essential elements to progress. Conversely, a narrow distribution centered around lower time values could point to areas that lack challenge or fail to fully engage players. Adjustments could involve modifying the complexity of obstacles, altering the number and clarity of hints, or reevaluating the room's design to ensure it contributes positively to the game's overall experience.\n"
   ]
  },
  {
   "cell_type": "code",
   "execution_count": 3,
   "id": "fff24136",
   "metadata": {},
   "outputs": [],
   "source": [
    "def process_data(data):\n",
    "    levels = {}\n",
    "    for each_data in finished_data:\n",
    "        level_info = finished_data[each_data]\n",
    "        level_id = level_info['levelID']\n",
    "        level_name = level_info['levelName']\n",
    "        total_time_spent = level_info['totalTimeSpent']\n",
    "        print(level_id)\n",
    "\n",
    "        if level_id not in levels:\n",
    "            levels[level_id] = {'totalTimeSpent': [], 'rooms': {}}\n",
    "\n",
    "        levels[level_id]['totalTimeSpent'].append(total_time_spent)\n",
    "\n",
    "        print(levels[level_id])\n",
    "\n",
    "        if 'rooms' in level_info:\n",
    "            for room in level_info['rooms']:\n",
    "                room_name = room['roomName']\n",
    "                room_id = room['roomID']\n",
    "                time_spent = room['timeSpent']\n",
    "                if room_id not in levels[level_id]['rooms']:\n",
    "                    levels[level_id]['rooms'][room_id] = []\n",
    "                levels[level_id]['rooms'][room_id].append(time_spent)\n",
    "    return levels"
   ]
  },
  {
   "cell_type": "code",
   "execution_count": 4,
   "id": "24836612",
   "metadata": {},
   "outputs": [
    {
     "name": "stdout",
     "output_type": "stream",
     "text": [
      "Level1\n",
      "{'totalTimeSpent': [34.90228271484375], 'rooms': {}}\n",
      "Level0\n",
      "{'totalTimeSpent': [23.031295776367188], 'rooms': {}}\n",
      "Level1\n",
      "{'totalTimeSpent': [34.90228271484375, 38.759193420410156], 'rooms': {'Room1': [10.169261932373047], 'Room2': [3.7192885875701904], 'Room3': [12.781781196594238]}}\n",
      "Level2\n",
      "{'totalTimeSpent': [53.76894760131836], 'rooms': {}}\n",
      "Level0\n",
      "{'totalTimeSpent': [23.031295776367188, 13.446446418762207], 'rooms': {}}\n",
      "Level0\n",
      "{'totalTimeSpent': [23.031295776367188, 13.446446418762207, 16.327857971191406], 'rooms': {}}\n",
      "Level1\n",
      "{'totalTimeSpent': [34.90228271484375, 38.759193420410156, 34.46465301513672], 'rooms': {'Room1': [10.169261932373047, 13.047257423400879], 'Room2': [3.7192885875701904, 5.958754539489746], 'Room3': [12.781781196594238, 8.02037239074707]}}\n",
      "Level0\n",
      "{'totalTimeSpent': [23.031295776367188, 13.446446418762207, 16.327857971191406, 21.8325138092041], 'rooms': {}}\n",
      "Level0\n",
      "{'totalTimeSpent': [23.031295776367188, 13.446446418762207, 16.327857971191406, 21.8325138092041, 22.10773468017578], 'rooms': {}}\n",
      "Level0\n",
      "{'totalTimeSpent': [23.031295776367188, 13.446446418762207, 16.327857971191406, 21.8325138092041, 22.10773468017578, 34.927635192871094], 'rooms': {}}\n",
      "Level0\n",
      "{'totalTimeSpent': [23.031295776367188, 13.446446418762207, 16.327857971191406, 21.8325138092041, 22.10773468017578, 34.927635192871094, 27.404586791992188], 'rooms': {}}\n",
      "Level1\n",
      "{'totalTimeSpent': [34.90228271484375, 38.759193420410156, 34.46465301513672, 47.9542350769043], 'rooms': {'Room1': [10.169261932373047, 13.047257423400879, 13.873517990112305], 'Room2': [3.7192885875701904, 5.958754539489746, 5.219878673553467], 'Room3': [12.781781196594238, 8.02037239074707, 7.536604404449463]}}\n",
      "Level0\n",
      "{'totalTimeSpent': [23.031295776367188, 13.446446418762207, 16.327857971191406, 21.8325138092041, 22.10773468017578, 34.927635192871094, 27.404586791992188, 24.360448837280273], 'rooms': {}}\n",
      "Level0\n",
      "{'totalTimeSpent': [23.031295776367188, 13.446446418762207, 16.327857971191406, 21.8325138092041, 22.10773468017578, 34.927635192871094, 27.404586791992188, 24.360448837280273, 22.119394302368164], 'rooms': {}}\n",
      "Level1\n",
      "{'totalTimeSpent': [34.90228271484375, 38.759193420410156, 34.46465301513672, 47.9542350769043, 44.23634719848633], 'rooms': {'Room1': [10.169261932373047, 13.047257423400879, 13.873517990112305, 29.987159729003906], 'Room2': [3.7192885875701904, 5.958754539489746, 5.219878673553467, 13.299686431884766], 'Room3': [12.781781196594238, 8.02037239074707, 7.536604404449463, 22.460847854614258]}}\n",
      "Level2\n",
      "{'totalTimeSpent': [53.76894760131836, 82.81555938720703], 'rooms': {'Room1': [4.348344326019287], 'Room2': [11.759748458862305], 'Room3': [7.959157943725586], 'Room4': [2.0407028198242188]}}\n",
      "Level0\n",
      "{'totalTimeSpent': [23.031295776367188, 13.446446418762207, 16.327857971191406, 21.8325138092041, 22.10773468017578, 34.927635192871094, 27.404586791992188, 24.360448837280273, 22.119394302368164, 26.262704849243164], 'rooms': {}}\n",
      "Level0\n",
      "{'totalTimeSpent': [23.031295776367188, 13.446446418762207, 16.327857971191406, 21.8325138092041, 22.10773468017578, 34.927635192871094, 27.404586791992188, 24.360448837280273, 22.119394302368164, 26.262704849243164, 24.134374618530273], 'rooms': {}}\n",
      "Level0\n",
      "{'totalTimeSpent': [23.031295776367188, 13.446446418762207, 16.327857971191406, 21.8325138092041, 22.10773468017578, 34.927635192871094, 27.404586791992188, 24.360448837280273, 22.119394302368164, 26.262704849243164, 24.134374618530273, 22.584516525268555], 'rooms': {}}\n",
      "Level1\n",
      "{'totalTimeSpent': [34.90228271484375, 38.759193420410156, 34.46465301513672, 47.9542350769043, 44.23634719848633, 45.479095458984375], 'rooms': {'Room1': [10.169261932373047, 13.047257423400879, 13.873517990112305, 29.987159729003906, 35.42932891845703], 'Room2': [3.7192885875701904, 5.958754539489746, 5.219878673553467, 13.299686431884766, 9.601846694946289], 'Room3': [12.781781196594238, 8.02037239074707, 7.536604404449463, 22.460847854614258, 21.759883880615234]}}\n",
      "Level2\n",
      "{'totalTimeSpent': [53.76894760131836, 82.81555938720703, 87.39575958251953], 'rooms': {'Room1': [4.348344326019287, 4.874788761138916], 'Room2': [11.759748458862305, 31.90398406982422], 'Room3': [7.959157943725586, 13.121733665466309], 'Room4': [2.0407028198242188, 6.501547813415527]}}\n"
     ]
    }
   ],
   "source": [
    "levels = process_data(finished_data)"
   ]
  },
  {
   "cell_type": "code",
   "execution_count": 21,
   "id": "f8eb916c",
   "metadata": {},
   "outputs": [],
   "source": [
    "def box_plot_data(levels, save_path):\n",
    "    # initialize a dictionary to hold the data for box plots\n",
    "    level_room_data = {level: {} for level in levels if level != 'Level0'}\n",
    "    room_names = set()\n",
    "\n",
    "    # collect data for each room in each level, excluding Level0\n",
    "    for level_id, level_info in levels.items():\n",
    "        if level_id == 'Level0':\n",
    "            continue  # Skip Level0\n",
    "        for room_id, times in level_info['rooms'].items():\n",
    "            room_names.add(room_id)  # Keep track of room names for labeling\n",
    "            if room_id not in level_room_data[level_id]:\n",
    "                level_room_data[level_id][room_id] = []\n",
    "            level_room_data[level_id][room_id].extend(times)\n",
    "\n",
    "    # sort room names for consistent ordering\n",
    "    sorted_room_names = sorted(room_names, key=lambda x: int(x.replace('Room', '')))\n",
    "\n",
    "    # create a figure and axis for the plot\n",
    "    fig, ax = plt.subplots()\n",
    "\n",
    "    # number of levels and rooms will determine the width of the bars\n",
    "    n_levels = len(level_room_data)\n",
    "    n_rooms = len(sorted_room_names)\n",
    "    width = 1 / (n_rooms + 1)  # width of each box, with some spacing\n",
    "    positions = np.arange(1, n_levels + 1)  # the x locations for the groups\n",
    "\n",
    "    # plot box plots for each room within each level, excluding Level0\n",
    "    room_colors = ['blue', 'green', 'red', 'orange']  # colors for the median lines\n",
    "    for i, room in enumerate(sorted_room_names):\n",
    "        data_to_plot = []\n",
    "        for level in sorted(level_room_data.keys(), key=lambda x: int(x.replace('Level', ''))):\n",
    "            if room in level_room_data[level]:\n",
    "                data_to_plot.append(level_room_data[level][room])\n",
    "            else:\n",
    "                data_to_plot.append([])  # no data for this room in this level\n",
    "\n",
    "        # create box plots\n",
    "        box = ax.boxplot(data_to_plot, positions=np.array(positions) + i * width, widths=width)\n",
    "        \n",
    "        # customize colors for each room's median line\n",
    "        for median in box['medians']:\n",
    "            median.set(color=room_colors[i], linewidth=2)\n",
    "\n",
    "    # add labels\n",
    "    ax.set_xticks(positions + width * (n_rooms - 1) / 2)\n",
    "    ax.set_xticklabels(['Level ' + str(i) for i in range(1, n_levels + 1) if 'Level' + str(i) in level_room_data])\n",
    "    ax.set_ylabel('Time spend /s')\n",
    "    ax.set_title('Time spent in each room by level')\n",
    "\n",
    "    # add legend with room names\n",
    "    ax.legend([plt.Line2D([0], [0], color='C' + str(i), lw=4) for i in range(n_rooms)], sorted_room_names)\n",
    "\n",
    "    # save the figure\n",
    "    plt.savefig(save_path)\n",
    "    plt.show()"
   ]
  },
  {
   "cell_type": "code",
   "execution_count": 22,
   "id": "2991d412",
   "metadata": {},
   "outputs": [
    {
     "data": {
      "image/png": "[encoded data removed]",
      "text/plain": [
       "<Figure size 432x288 with 1 Axes>"
      ]
     },
     "metadata": {
      "needs_background": "light"
     },
     "output_type": "display_data"
    }
   ],
   "source": [
    "# Plot the data\n",
    "box_plot_data(levels, 'room_time_distribution_plot.png')"
   ]
  },
  {
   "cell_type": "markdown",
   "id": "2f9146ce",
   "metadata": {},
   "source": [
    "## Metric2\n",
    "TBD"
   ]
  },
  {
   "cell_type": "markdown",
   "id": "0f4432c5",
   "metadata": {},
   "source": [
    "## Metric3\n",
    "TBD"
   ]
  },
  {
   "cell_type": "markdown",
   "id": "0362edcd",
   "metadata": {},
   "source": [
    "## Metric4\n",
    "TBD"
   ]
  }
 ],
 "metadata": {
  "kernelspec": {
   "display_name": "Python 3 (ipykernel)",
   "language": "python",
   "name": "python3"
  },
  "language_info": {
   "codemirror_mode": {
    "name": "ipython",
    "version": 3
   },
   "file_extension": ".py",
   "mimetype": "text/x-python",
   "name": "python",
   "nbconvert_exporter": "python",
   "pygments_lexer": "ipython3",
   "version": "3.9.7"
  }
 },
 "nbformat": 4,
 "nbformat_minor": 5
}
